{
 "cells": [
  {
   "cell_type": "code",
   "execution_count": 1,
   "metadata": {
    "collapsed": true
   },
   "outputs": [],
   "source": [
    "import sqlite3\n",
    "con = sqlite3.connect('todo.db') # Warning: This file is created in the current directory\n",
    "con.execute(\"CREATE TABLE todo (id INTEGER PRIMARY KEY, task char(100) NOT NULL, status bool NOT NULL)\")\n",
    "con.execute(\"INSERT INTO todo (task,status) VALUES ('Read A-byte-of-python to get a good introduction into Python',0)\")\n",
    "con.execute(\"INSERT INTO todo (task,status) VALUES ('Visit the Python website',1)\")\n",
    "con.execute(\"INSERT INTO todo (task,status) VALUES ('Test various editors for and check the syntax highlighting',1)\")\n",
    "con.execute(\"INSERT INTO todo (task,status) VALUES ('Choose your favorite WSGI-Framework',0)\")\n",
    "con.commit()"
   ]
  },
  {
   "cell_type": "code",
   "execution_count": 1,
   "metadata": {
    "collapsed": false
   },
   "outputs": [
    {
     "name": "stderr",
     "output_type": "stream",
     "text": [
      "Bottle v0.12.13 server starting up (using WSGIRefServer())...\n",
      "Listening on http://127.0.0.1:8080/\n",
      "Hit Ctrl-C to quit.\n",
      "\n",
      "127.0.0.1 - - [09/May/2017 23:22:11] \"GET /edit/3 HTTP/1.1\" 200 327\n",
      "127.0.0.1 - - [09/May/2017 23:22:27] \"GET /edit/5 HTTP/1.1\" 200 278\n",
      "/usr/local/lib/python3.5/dist-packages/bottle.py:3129: ResourceWarning: unclosed <socket.socket fd=48, family=AddressFamily.AF_INET, type=SocketKind.SOCK_STREAM, proto=0, laddr=('127.0.0.1', 8080)>\n",
      "  pass\n"
     ]
    }
   ],
   "source": [
    "import sqlite3\n",
    "from bottle import route, run, debug, template, request,  static_file, error\n",
    "@route('/todo')\n",
    "def todo_list():\n",
    "    conn = sqlite3.connect('todo.db')\n",
    "    c = conn.cursor()\n",
    "    c.execute(\"SELECT id, task FROM todo WHERE status LIKE '1'\")\n",
    "    result = c.fetchall()\n",
    "    c.close()\n",
    "    output = template('make_table', rows=result)\n",
    "    return output\n",
    "\n",
    "@route('/new', method='GET')\n",
    "def new_item():\n",
    "    if request.GET.save:\n",
    "        new = request.GET.task.strip()\n",
    "        conn = sqlite3.connect('todo.db')\n",
    "        c = conn.cursor()\n",
    "        c.execute(\"INSERT INTO todo (task,status) VALUES (?,?)\", (new,1))\n",
    "        new_id = c.lastrowid\n",
    "        conn.commit()\n",
    "        c.close()\n",
    "        return '<p>The new task was inserted into the database, the ID is %s</p>' % new_id\n",
    "    else:\n",
    "        return template('new_task.tpl')\n",
    "    \n",
    "@route('/item<item:re:[0-9]+>')\n",
    "def show_item(item):\n",
    "    conn = sqlite3.connect('todo.db')\n",
    "    c = conn.cursor()\n",
    "    c.execute(\"SELECT task FROM todo WHERE id LIKE ?\", (item,))\n",
    "    result = c.fetchall()\n",
    "    c.close()\n",
    "    if not result:\n",
    "        return 'This item number does not exist!'\n",
    "    else:\n",
    "        return 'Task: %s' % result[0]\n",
    "    \n",
    "@route('/json<json:re:[0-9]+>')\n",
    "def show_json(json):\n",
    "    conn = sqlite3.connect('todo.db')\n",
    "    c = conn.cursor()\n",
    "    c.execute(\"SELECT task FROM todo WHERE id LIKE ?\", (json,))\n",
    "    result = c.fetchall()\n",
    "    c.close()\n",
    "    if not result:\n",
    "        return {'task': 'This item number does not exist!'}\n",
    "    else:\n",
    "        return {'task': result[0]}\n",
    "    \n",
    "@route('/edit/<no:int>', method='GET')\n",
    "def edit_item(no):\n",
    "    if request.GET.save:\n",
    "        edit = request.GET.task.strip()\n",
    "        status = request.GET.status.strip()\n",
    "        if status == 'open':\n",
    "            status = 1\n",
    "        else:\n",
    "            status = 0\n",
    "        conn = sqlite3.connect('todo.db')\n",
    "        c = conn.cursor()\n",
    "        c.execute(\"UPDATE todo SET task = ?, status = ? WHERE id LIKE ?\", (edit, status, no))\n",
    "        conn.commit()\n",
    "        return '<p>The item number %s was successfully updated</p>' % no\n",
    "    else:\n",
    "        conn = sqlite3.connect('todo.db')\n",
    "        c = conn.cursor()\n",
    "        c.execute(\"SELECT task FROM todo WHERE id LIKE ?\", (str(no)))\n",
    "        cur_data = c.fetchone()\n",
    "        return template('edit_task', old=cur_data, no=no)\n",
    "    \n",
    "@error(403)\n",
    "def mistake403(code):\n",
    "    return 'The parameter you passed has the wrong format!'\n",
    "\n",
    "@error(404)\n",
    "def mistake404(code):\n",
    "    return 'Sorry, this page does not exist!'\n",
    "\n",
    "    \n",
    "@route('/help')\n",
    "def help():\n",
    "    return static_file('help.html', root='/home/sai/restapi/')\n",
    "\n",
    "debug(True)\n",
    "run()\n",
    "\n",
    "\n"
   ]
  },
  {
   "cell_type": "code",
   "execution_count": null,
   "metadata": {
    "collapsed": true
   },
   "outputs": [],
   "source": []
  }
 ],
 "metadata": {
  "kernelspec": {
   "display_name": "Python 3",
   "language": "python",
   "name": "python3"
  },
  "language_info": {
   "codemirror_mode": {
    "name": "ipython",
    "version": 3
   },
   "file_extension": ".py",
   "mimetype": "text/x-python",
   "name": "python",
   "nbconvert_exporter": "python",
   "pygments_lexer": "ipython3",
   "version": "3.5.2"
  }
 },
 "nbformat": 4,
 "nbformat_minor": 1
}
